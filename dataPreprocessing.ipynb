{
  "nbformat": 4,
  "nbformat_minor": 0,
  "metadata": {
    "colab": {
      "provenance": [],
      "authorship_tag": "ABX9TyN1o0y/urHAm3gV+455zXys",
      "include_colab_link": true
    },
    "kernelspec": {
      "name": "python3",
      "display_name": "Python 3"
    },
    "language_info": {
      "name": "python"
    }
  },
  "cells": [
    {
      "cell_type": "markdown",
      "metadata": {
        "id": "view-in-github",
        "colab_type": "text"
      },
      "source": [
        "<a href=\"https://colab.research.google.com/github/ElSangour/dataPreprocessing/blob/dev/dataPreprocessing.ipynb\" target=\"_parent\"><img src=\"https://colab.research.google.com/assets/colab-badge.svg\" alt=\"Open In Colab\"/></a>"
      ]
    },
    {
      "cell_type": "markdown",
      "source": [
        "**Importing the libraries**\n"
      ],
      "metadata": {
        "id": "d3qrNAjJzBZj"
      }
    },
    {
      "cell_type": "code",
      "source": [
        "import numpy as np\n",
        "import matplotlib.pyplot as plt\n",
        "import pandas as pd"
      ],
      "metadata": {
        "id": "utofNPZbzLxA"
      },
      "execution_count": 20,
      "outputs": []
    },
    {
      "cell_type": "markdown",
      "source": [
        "**Importing the Dataset**"
      ],
      "metadata": {
        "id": "lt5rvvpb155R"
      }
    },
    {
      "cell_type": "code",
      "source": [
        "dataset=pd.read_csv('/dataSet.csv')\n",
        "x=dataset.iloc[:,:-1].values\n",
        "y=dataset.iloc[:,-1].values"
      ],
      "metadata": {
        "id": "1sh3duFg2BFu"
      },
      "execution_count": 35,
      "outputs": []
    },
    {
      "cell_type": "code",
      "source": [
        "print(x)"
      ],
      "metadata": {
        "colab": {
          "base_uri": "https://localhost:8080/"
        },
        "id": "_7QAjMSM47GC",
        "outputId": "aa668b62-4f55-44cb-a1d6-3c66abbbe69a"
      },
      "execution_count": 36,
      "outputs": [
        {
          "output_type": "stream",
          "name": "stdout",
          "text": [
            "[['France' 40.0 98479.0]\n",
            " ['Spain' 3.0 88582.0]\n",
            " ['Germany' 28.0 81129.0]\n",
            " ['France' 49.0 nan]\n",
            " ['Spain' 6.0 83036.0]\n",
            " ['Germany' 58.0 98158.0]\n",
            " ['France' 57.0 90484.0]\n",
            " ['Spain' 13.0 70478.0]\n",
            " ['Germany' 45.0 64905.0]\n",
            " ['France' 59.0 68932.0]\n",
            " ['Germany' nan 75000.0]]\n"
          ]
        }
      ]
    },
    {
      "cell_type": "code",
      "source": [
        "print(y)"
      ],
      "metadata": {
        "colab": {
          "base_uri": "https://localhost:8080/"
        },
        "id": "4S0tbKvW48ZB",
        "outputId": "51ab92f4-ceb2-4cbd-a53a-1af56c5853c8"
      },
      "execution_count": 37,
      "outputs": [
        {
          "output_type": "stream",
          "name": "stdout",
          "text": [
            "['No' 'No' 'No' 'Yes' 'Yes' 'Yes' 'Yes' 'No' 'No' 'Yes' 'Yes']\n"
          ]
        }
      ]
    },
    {
      "cell_type": "markdown",
      "source": [
        "**Handling Missing Data**\n"
      ],
      "metadata": {
        "id": "1er2i8Zi9F8M"
      }
    },
    {
      "cell_type": "code",
      "source": [
        "from sklearn.impute import SimpleImputer\n",
        "imputer=SimpleImputer(missing_values=np.nan,strategy='mean')\n",
        "imputer.fit(x[:,1:3])\n",
        "x[:,1:3]=imputer.transform(x[:,1:3])\n",
        "print(x)\n"
      ],
      "metadata": {
        "colab": {
          "base_uri": "https://localhost:8080/"
        },
        "id": "WbVanySY9JZm",
        "outputId": "e1851e63-e40c-4650-c119-09069a011246"
      },
      "execution_count": 38,
      "outputs": [
        {
          "output_type": "stream",
          "name": "stdout",
          "text": [
            "[['France' 40.0 98479.0]\n",
            " ['Spain' 3.0 88582.0]\n",
            " ['Germany' 28.0 81129.0]\n",
            " ['France' 49.0 81918.3]\n",
            " ['Spain' 6.0 83036.0]\n",
            " ['Germany' 58.0 98158.0]\n",
            " ['France' 57.0 90484.0]\n",
            " ['Spain' 13.0 70478.0]\n",
            " ['Germany' 45.0 64905.0]\n",
            " ['France' 59.0 68932.0]\n",
            " ['Germany' 35.8 75000.0]]\n"
          ]
        }
      ]
    },
    {
      "cell_type": "markdown",
      "source": [
        "**Encoding Categorical Data**"
      ],
      "metadata": {
        "id": "YQbFOA3uD-O1"
      }
    },
    {
      "cell_type": "code",
      "source": [
        "from sklearn.compose import ColumnTransformer\n",
        "from sklearn.preprocessing import OneHotEncoder\n",
        "ct = ColumnTransformer(transformers= [('encoder',OneHotEncoder(),[0])], remainder='passthrough')\n",
        "x=np.array(ct.fit_transform(x))\n",
        "print(x)"
      ],
      "metadata": {
        "colab": {
          "base_uri": "https://localhost:8080/"
        },
        "id": "IzlEzsyrEDpO",
        "outputId": "ec945afa-1a3a-4dc2-c04f-50118f1d044b"
      },
      "execution_count": 39,
      "outputs": [
        {
          "output_type": "stream",
          "name": "stdout",
          "text": [
            "[[1.0 0.0 0.0 40.0 98479.0]\n",
            " [0.0 0.0 1.0 3.0 88582.0]\n",
            " [0.0 1.0 0.0 28.0 81129.0]\n",
            " [1.0 0.0 0.0 49.0 81918.3]\n",
            " [0.0 0.0 1.0 6.0 83036.0]\n",
            " [0.0 1.0 0.0 58.0 98158.0]\n",
            " [1.0 0.0 0.0 57.0 90484.0]\n",
            " [0.0 0.0 1.0 13.0 70478.0]\n",
            " [0.0 1.0 0.0 45.0 64905.0]\n",
            " [1.0 0.0 0.0 59.0 68932.0]\n",
            " [0.0 1.0 0.0 35.8 75000.0]]\n"
          ]
        }
      ]
    },
    {
      "cell_type": "code",
      "source": [
        "from sklearn.preprocessing import LabelEncoder\n",
        "le=LabelEncoder()\n",
        "y=le.fit_transform(y)\n",
        "print(y)"
      ],
      "metadata": {
        "colab": {
          "base_uri": "https://localhost:8080/"
        },
        "id": "v4X7WoR2Ha9T",
        "outputId": "8b5df543-10c0-4020-d12c-c2eb4c0305c8"
      },
      "execution_count": 41,
      "outputs": [
        {
          "output_type": "stream",
          "name": "stdout",
          "text": [
            "[0 0 0 1 1 1 1 0 0 1 1]\n"
          ]
        }
      ]
    }
  ]
}