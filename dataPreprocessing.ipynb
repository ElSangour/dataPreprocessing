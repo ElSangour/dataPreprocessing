{
  "nbformat": 4,
  "nbformat_minor": 0,
  "metadata": {
    "colab": {
      "provenance": [],
      "authorship_tag": "ABX9TyMnQAmiZccFeWd4k7bN17hl",
      "include_colab_link": true
    },
    "kernelspec": {
      "name": "python3",
      "display_name": "Python 3"
    },
    "language_info": {
      "name": "python"
    }
  },
  "cells": [
    {
      "cell_type": "markdown",
      "metadata": {
        "id": "view-in-github",
        "colab_type": "text"
      },
      "source": [
        "<a href=\"https://colab.research.google.com/github/ElSangour/dataPreprocessing/blob/dev/dataPreprocessing.ipynb\" target=\"_parent\"><img src=\"https://colab.research.google.com/assets/colab-badge.svg\" alt=\"Open In Colab\"/></a>"
      ]
    },
    {
      "cell_type": "markdown",
      "source": [
        "**Importing the libraries**\n"
      ],
      "metadata": {
        "id": "d3qrNAjJzBZj"
      }
    },
    {
      "cell_type": "code",
      "source": [
        "import numpy as np\n",
        "import matplotlib.pyplot as plt\n",
        "import pandas as pd"
      ],
      "metadata": {
        "id": "utofNPZbzLxA"
      },
      "execution_count": 20,
      "outputs": []
    },
    {
      "cell_type": "markdown",
      "source": [
        "**Importing the Dataset**"
      ],
      "metadata": {
        "id": "lt5rvvpb155R"
      }
    },
    {
      "cell_type": "code",
      "source": [
        "dataset=pd.read_csv('/dataSet.csv')\n",
        "x=dataset.iloc[:,:-1].values\n",
        "y=dataset.iloc[:,-1].values"
      ],
      "metadata": {
        "id": "1sh3duFg2BFu"
      },
      "execution_count": 35,
      "outputs": []
    },
    {
      "cell_type": "code",
      "source": [
        "print(x)"
      ],
      "metadata": {
        "colab": {
          "base_uri": "https://localhost:8080/"
        },
        "id": "_7QAjMSM47GC",
        "outputId": "aa668b62-4f55-44cb-a1d6-3c66abbbe69a"
      },
      "execution_count": 36,
      "outputs": [
        {
          "output_type": "stream",
          "name": "stdout",
          "text": [
            "[['France' 40.0 98479.0]\n",
            " ['Spain' 3.0 88582.0]\n",
            " ['Germany' 28.0 81129.0]\n",
            " ['France' 49.0 nan]\n",
            " ['Spain' 6.0 83036.0]\n",
            " ['Germany' 58.0 98158.0]\n",
            " ['France' 57.0 90484.0]\n",
            " ['Spain' 13.0 70478.0]\n",
            " ['Germany' 45.0 64905.0]\n",
            " ['France' 59.0 68932.0]\n",
            " ['Germany' nan 75000.0]]\n"
          ]
        }
      ]
    },
    {
      "cell_type": "code",
      "source": [
        "print(y)"
      ],
      "metadata": {
        "colab": {
          "base_uri": "https://localhost:8080/"
        },
        "id": "4S0tbKvW48ZB",
        "outputId": "51ab92f4-ceb2-4cbd-a53a-1af56c5853c8"
      },
      "execution_count": 37,
      "outputs": [
        {
          "output_type": "stream",
          "name": "stdout",
          "text": [
            "['No' 'No' 'No' 'Yes' 'Yes' 'Yes' 'Yes' 'No' 'No' 'Yes' 'Yes']\n"
          ]
        }
      ]
    },
    {
      "cell_type": "markdown",
      "source": [
        "**Handling Missing Data**\n"
      ],
      "metadata": {
        "id": "1er2i8Zi9F8M"
      }
    },
    {
      "cell_type": "code",
      "source": [
        "from sklearn.impute import SimpleImputer\n",
        "imputer=SimpleImputer(missing_values=np.nan,strategy='mean')\n",
        "imputer.fit(x[:,1:3])\n",
        "x[:,1:3]=imputer.transform(x[:,1:3])\n",
        "print(x)\n"
      ],
      "metadata": {
        "colab": {
          "base_uri": "https://localhost:8080/"
        },
        "id": "WbVanySY9JZm",
        "outputId": "e1851e63-e40c-4650-c119-09069a011246"
      },
      "execution_count": 38,
      "outputs": [
        {
          "output_type": "stream",
          "name": "stdout",
          "text": [
            "[['France' 40.0 98479.0]\n",
            " ['Spain' 3.0 88582.0]\n",
            " ['Germany' 28.0 81129.0]\n",
            " ['France' 49.0 81918.3]\n",
            " ['Spain' 6.0 83036.0]\n",
            " ['Germany' 58.0 98158.0]\n",
            " ['France' 57.0 90484.0]\n",
            " ['Spain' 13.0 70478.0]\n",
            " ['Germany' 45.0 64905.0]\n",
            " ['France' 59.0 68932.0]\n",
            " ['Germany' 35.8 75000.0]]\n"
          ]
        }
      ]
    },
    {
      "cell_type": "markdown",
      "source": [
        "**Encoding Categorical Data**"
      ],
      "metadata": {
        "id": "YQbFOA3uD-O1"
      }
    },
    {
      "cell_type": "code",
      "source": [
        "from sklearn.compose import ColumnTransformer\n",
        "from sklearn.preprocessing import OneHotEncoder\n",
        "ct = ColumnTransformer(transformers= [('encoder',OneHotEncoder(),[0])], remainder='passthrough')\n",
        "x=np.array(ct.fit_transform(x))\n",
        "print(x)"
      ],
      "metadata": {
        "colab": {
          "base_uri": "https://localhost:8080/"
        },
        "id": "IzlEzsyrEDpO",
        "outputId": "b9066742-a8ff-421d-f01a-80b61e03a591"
      },
      "execution_count": 45,
      "outputs": [
        {
          "output_type": "stream",
          "name": "stdout",
          "text": [
            "[[0.0 1.0 0.0 0.0 40.0 98479.0]\n",
            " [1.0 0.0 0.0 1.0 3.0 88582.0]\n",
            " [1.0 0.0 1.0 0.0 28.0 81129.0]\n",
            " [0.0 1.0 0.0 0.0 49.0 81918.3]\n",
            " [1.0 0.0 0.0 1.0 6.0 83036.0]\n",
            " [1.0 0.0 1.0 0.0 58.0 98158.0]\n",
            " [0.0 1.0 0.0 0.0 57.0 90484.0]\n",
            " [1.0 0.0 0.0 1.0 13.0 70478.0]\n",
            " [1.0 0.0 1.0 0.0 45.0 64905.0]\n",
            " [0.0 1.0 0.0 0.0 59.0 68932.0]\n",
            " [1.0 0.0 1.0 0.0 35.8 75000.0]]\n"
          ]
        }
      ]
    },
    {
      "cell_type": "code",
      "source": [
        "from sklearn.preprocessing import LabelEncoder\n",
        "le=LabelEncoder()\n",
        "y=le.fit_transform(y)\n",
        "print(y)"
      ],
      "metadata": {
        "colab": {
          "base_uri": "https://localhost:8080/"
        },
        "id": "a1ns2glSBH5A",
        "outputId": "cba0cf11-7f38-4282-f4f3-32f800225c75"
      },
      "execution_count": 47,
      "outputs": [
        {
          "output_type": "stream",
          "name": "stdout",
          "text": [
            "[0 0 0 1 1 1 1 0 0 1 1]\n"
          ]
        }
      ]
    },
    {
      "cell_type": "markdown",
      "source": [
        "**Splitting Dataset into Training set and Test set**"
      ],
      "metadata": {
        "id": "tV4hM0YoKO5N"
      }
    },
    {
      "cell_type": "code",
      "source": [
        "from sklearn.model_selection import train_test_split\n",
        "x_train,x_test,y_train,y_test=train_test_split(x,y,test_size=0.2,random_state=1)\n",
        "print(x_train)\n",
        "print(y_train)\n",
        "print(x_test)\n",
        "print(y_test)"
      ],
      "metadata": {
        "colab": {
          "base_uri": "https://localhost:8080/"
        },
        "id": "HD3aA57TEiq0",
        "outputId": "0a7b5c5a-b0c8-4b7d-a3b3-54745b0bfcac"
      },
      "execution_count": 52,
      "outputs": [
        {
          "output_type": "stream",
          "name": "stdout",
          "text": [
            "[[0.0 1.0 0.0 0.0 40.0 98479.0]\n",
            " [0.0 1.0 0.0 0.0 49.0 81918.3]\n",
            " [1.0 0.0 0.0 1.0 3.0 88582.0]\n",
            " [0.0 1.0 0.0 0.0 57.0 90484.0]\n",
            " [1.0 0.0 1.0 0.0 58.0 98158.0]\n",
            " [1.0 0.0 0.0 1.0 6.0 83036.0]\n",
            " [1.0 0.0 1.0 0.0 35.8 75000.0]\n",
            " [1.0 0.0 1.0 0.0 45.0 64905.0]]\n",
            "[0 1 0 1 1 1 1 0]\n",
            "[[1.0 0.0 0.0 1.0 13.0 70478.0]\n",
            " [0.0 1.0 0.0 0.0 59.0 68932.0]\n",
            " [1.0 0.0 1.0 0.0 28.0 81129.0]]\n",
            "[0 1 0]\n"
          ]
        }
      ]
    },
    {
      "cell_type": "markdown",
      "source": [
        "**Feature Scaling**"
      ],
      "metadata": {
        "id": "A4kfdgqOZB1B"
      }
    },
    {
      "cell_type": "code",
      "source": [
        "from sklearn.preprocessing import StandardScaler\n",
        "sc = StandardScaler()\n",
        "x_train[:,3:] = sc.fit_transform(x_train[:,3:])\n",
        "x_test[:,3:] = sc.transform(x_test[:,3:])\n",
        "print(x_train)\n",
        "print(x_test)"
      ],
      "metadata": {
        "colab": {
          "base_uri": "https://localhost:8080/"
        },
        "id": "uB-i85DdmCl4",
        "outputId": "2a35fd02-bf0e-46af-8db2-0c678ce4c429"
      },
      "execution_count": 62,
      "outputs": [
        {
          "output_type": "stream",
          "name": "stdout",
          "text": [
            "[[ 0.          1.          0.          0.         -0.51440498  1.43729268]\n",
            " [ 0.          1.          0.          0.          0.22992104  0.0115043 ]\n",
            " [ 1.          0.          0.          1.         -1.96523008  0.60492479]\n",
            " [ 0.          1.          0.          0.          0.87194693  0.28262032]\n",
            " [ 1.          0.          1.          0.          1.54227657  1.41036909]\n",
            " [ 1.          0.          0.          1.         -1.82691879  0.10041797]\n",
            " [ 1.          0.          1.          0.         -0.68656862 -0.80799495]\n",
            " [ 1.          0.          1.          0.          0.34897893 -2.03913352]]\n",
            "[[ 1.          0.          0.          1.         -1.33569453 -1.53167521]\n",
            " [ 0.          1.          0.          0.          1.05137811 -1.67959034]\n",
            " [ 1.          0.          1.          0.         -0.61677655  0.05466777]]\n"
          ]
        }
      ]
    }
  ]
}
