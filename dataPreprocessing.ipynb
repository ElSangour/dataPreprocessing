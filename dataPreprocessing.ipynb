{
  "nbformat": 4,
  "nbformat_minor": 0,
  "metadata": {
    "colab": {
      "provenance": [],
      "authorship_tag": "ABX9TyPiD60DDg5LUPGuZbnWbLRT",
      "include_colab_link": true
    },
    "kernelspec": {
      "name": "python3",
      "display_name": "Python 3"
    },
    "language_info": {
      "name": "python"
    }
  },
  "cells": [
    {
      "cell_type": "markdown",
      "metadata": {
        "id": "view-in-github",
        "colab_type": "text"
      },
      "source": [
        "<a href=\"https://colab.research.google.com/github/ElSangour/dataPreprocessing/blob/dev/dataPreprocessing.ipynb\" target=\"_parent\"><img src=\"https://colab.research.google.com/assets/colab-badge.svg\" alt=\"Open In Colab\"/></a>"
      ]
    },
    {
      "cell_type": "markdown",
      "source": [
        "**Importing the libraries**\n"
      ],
      "metadata": {
        "id": "d3qrNAjJzBZj"
      }
    },
    {
      "cell_type": "code",
      "source": [
        "import numpy as np\n",
        "import matplotlib.pyplot as plt\n",
        "import pandas as pd"
      ],
      "metadata": {
        "id": "utofNPZbzLxA"
      },
      "execution_count": 1,
      "outputs": []
    },
    {
      "cell_type": "markdown",
      "source": [
        "**Importing the Dataset**"
      ],
      "metadata": {
        "id": "lt5rvvpb155R"
      }
    },
    {
      "cell_type": "code",
      "source": [
        "dataset=pd.read_csv('/dataSet.csv')\n",
        "x=dataset.iloc[:,:-1].values\n",
        "y=dataset.iloc[:,-1].values"
      ],
      "metadata": {
        "id": "1sh3duFg2BFu"
      },
      "execution_count": 5,
      "outputs": []
    },
    {
      "cell_type": "code",
      "source": [
        "print(x)"
      ],
      "metadata": {
        "colab": {
          "base_uri": "https://localhost:8080/"
        },
        "id": "_7QAjMSM47GC",
        "outputId": "791c6292-f4e4-4535-d502-b57de769f385"
      },
      "execution_count": 6,
      "outputs": [
        {
          "output_type": "stream",
          "name": "stdout",
          "text": [
            "[['Australia' 40 98479]\n",
            " ['Sudan' 3 88582]\n",
            " ['Western Sahara' 28 81129]\n",
            " ['Botswana' 49 77912]\n",
            " ['Lithuania' 6 83036]\n",
            " ['AndorrA' 58 98158]\n",
            " ['South Georgia and the South Sandwich Islands' 57 90484]\n",
            " ['Saint Helena' 13 70478]\n",
            " ['Tuvalu' 45 64905]\n",
            " ['Holy See (Vatican City State)' 59 68932]]\n"
          ]
        }
      ]
    },
    {
      "cell_type": "code",
      "source": [
        "print(y)"
      ],
      "metadata": {
        "colab": {
          "base_uri": "https://localhost:8080/"
        },
        "id": "4S0tbKvW48ZB",
        "outputId": "6017c653-8830-47fc-a9c9-fabbce7056e0"
      },
      "execution_count": 7,
      "outputs": [
        {
          "output_type": "stream",
          "name": "stdout",
          "text": [
            "['No' 'No' 'No' 'Yes' 'Yes' 'Yes' 'Yes' 'No' 'No' 'Yes']\n"
          ]
        }
      ]
    }
  ]
}